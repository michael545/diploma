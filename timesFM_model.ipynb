{
 "cells": [
  {
   "cell_type": "code",
   "execution_count": null,
   "metadata": {},
   "outputs": [
    {
     "name": "stdout",
     "output_type": "stream",
     "text": [
      "TimesFM v1.2.0. See https://github.com/google-research/timesfm/blob/master/README.md for updated APIs.\n",
      "Loaded Jax TimesFM.\n",
      "Loaded PyTorch TimesFM.\n"
     ]
    }
   ],
   "source": [
    "import timesfm"
   ]
  },
  {
   "cell_type": "code",
   "execution_count": 4,
   "metadata": {},
   "outputs": [],
   "source": [
    "import pandas as pd\n"
   ]
  },
  {
   "cell_type": "code",
   "execution_count": 5,
   "metadata": {},
   "outputs": [],
   "source": [
    "df = pd.read_csv('data/INTC_1H.csv')"
   ]
  },
  {
   "cell_type": "code",
   "execution_count": 8,
   "metadata": {},
   "outputs": [
    {
     "data": {
      "text/html": [
       "<div>\n",
       "<style scoped>\n",
       "    .dataframe tbody tr th:only-of-type {\n",
       "        vertical-align: middle;\n",
       "    }\n",
       "\n",
       "    .dataframe tbody tr th {\n",
       "        vertical-align: top;\n",
       "    }\n",
       "\n",
       "    .dataframe thead th {\n",
       "        text-align: right;\n",
       "    }\n",
       "</style>\n",
       "<table border=\"1\" class=\"dataframe\">\n",
       "  <thead>\n",
       "    <tr style=\"text-align: right;\">\n",
       "      <th></th>\n",
       "      <th>Datetime</th>\n",
       "      <th>Open</th>\n",
       "      <th>High</th>\n",
       "      <th>Low</th>\n",
       "      <th>Close</th>\n",
       "      <th>Volume</th>\n",
       "      <th>Dividends</th>\n",
       "      <th>Stock Splits</th>\n",
       "    </tr>\n",
       "  </thead>\n",
       "  <tbody>\n",
       "    <tr>\n",
       "      <th>3483</th>\n",
       "      <td>2025-03-26 10:30:00-04:00</td>\n",
       "      <td>23.535000</td>\n",
       "      <td>23.670000</td>\n",
       "      <td>23.290001</td>\n",
       "      <td>23.325001</td>\n",
       "      <td>10374103</td>\n",
       "      <td>0.0</td>\n",
       "      <td>0.0</td>\n",
       "    </tr>\n",
       "    <tr>\n",
       "      <th>3484</th>\n",
       "      <td>2025-03-26 11:30:00-04:00</td>\n",
       "      <td>23.325001</td>\n",
       "      <td>23.459000</td>\n",
       "      <td>23.270000</td>\n",
       "      <td>23.440001</td>\n",
       "      <td>5476925</td>\n",
       "      <td>0.0</td>\n",
       "      <td>0.0</td>\n",
       "    </tr>\n",
       "    <tr>\n",
       "      <th>3485</th>\n",
       "      <td>2025-03-26 12:30:00-04:00</td>\n",
       "      <td>23.440001</td>\n",
       "      <td>23.565001</td>\n",
       "      <td>23.340000</td>\n",
       "      <td>23.405001</td>\n",
       "      <td>4975732</td>\n",
       "      <td>0.0</td>\n",
       "      <td>0.0</td>\n",
       "    </tr>\n",
       "    <tr>\n",
       "      <th>3486</th>\n",
       "      <td>2025-03-26 13:30:00-04:00</td>\n",
       "      <td>23.400000</td>\n",
       "      <td>23.469999</td>\n",
       "      <td>23.340000</td>\n",
       "      <td>23.343100</td>\n",
       "      <td>3805082</td>\n",
       "      <td>0.0</td>\n",
       "      <td>0.0</td>\n",
       "    </tr>\n",
       "    <tr>\n",
       "      <th>3487</th>\n",
       "      <td>2025-03-26 14:30:00-04:00</td>\n",
       "      <td>23.344999</td>\n",
       "      <td>23.379999</td>\n",
       "      <td>23.280001</td>\n",
       "      <td>23.300100</td>\n",
       "      <td>2121655</td>\n",
       "      <td>0.0</td>\n",
       "      <td>0.0</td>\n",
       "    </tr>\n",
       "  </tbody>\n",
       "</table>\n",
       "</div>"
      ],
      "text/plain": [
       "                       Datetime       Open       High        Low      Close  \\\n",
       "3483  2025-03-26 10:30:00-04:00  23.535000  23.670000  23.290001  23.325001   \n",
       "3484  2025-03-26 11:30:00-04:00  23.325001  23.459000  23.270000  23.440001   \n",
       "3485  2025-03-26 12:30:00-04:00  23.440001  23.565001  23.340000  23.405001   \n",
       "3486  2025-03-26 13:30:00-04:00  23.400000  23.469999  23.340000  23.343100   \n",
       "3487  2025-03-26 14:30:00-04:00  23.344999  23.379999  23.280001  23.300100   \n",
       "\n",
       "        Volume  Dividends  Stock Splits  \n",
       "3483  10374103        0.0           0.0  \n",
       "3484   5476925        0.0           0.0  \n",
       "3485   4975732        0.0           0.0  \n",
       "3486   3805082        0.0           0.0  \n",
       "3487   2121655        0.0           0.0  "
      ]
     },
     "execution_count": 8,
     "metadata": {},
     "output_type": "execute_result"
    }
   ],
   "source": [
    "df.head()\n"
   ]
  },
  {
   "cell_type": "code",
   "execution_count": null,
   "metadata": {},
   "outputs": [],
   "source": []
  }
 ],
 "metadata": {
  "kernelspec": {
   "display_name": "myenv-3-10",
   "language": "python",
   "name": "python3"
  },
  "language_info": {
   "codemirror_mode": {
    "name": "ipython",
    "version": 3
   },
   "file_extension": ".py",
   "mimetype": "text/x-python",
   "name": "python",
   "nbconvert_exporter": "python",
   "pygments_lexer": "ipython3",
   "version": "3.10.1"
  }
 },
 "nbformat": 4,
 "nbformat_minor": 2
}
