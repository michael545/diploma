{
 "cells": [
  {
   "cell_type": "markdown",
   "id": "80561239",
   "metadata": {},
   "source": [
    "# Sentiment analysis with Gemini models\n",
    "\n",
    "Notebook to do:\n",
    "1. Get the data (free apis, agentic mode for LLMs)\n",
    "3. Test sentiment analysis on a sample news headline.\n",
    "- dependencies: `python-dotenv`, `google-generativeai`, `pandas`, `numpy`...."
   ]
  },
  {
   "cell_type": "code",
   "execution_count": 1,
   "id": "30b185b9",
   "metadata": {},
   "outputs": [
    {
     "name": "stderr",
     "output_type": "stream",
     "text": [
      "c:\\Users\\micha\\anaconda3\\envs\\sentiment_analysis_env\\Lib\\site-packages\\tqdm\\auto.py:21: TqdmWarning: IProgress not found. Please update jupyter and ipywidgets. See https://ipywidgets.readthedocs.io/en/stable/user_install.html\n",
      "  from .autonotebook import tqdm as notebook_tqdm\n"
     ]
    }
   ],
   "source": [
    "import os\n",
    "import google.generativeai as genai\n",
    "from dotenv import load_dotenv"
   ]
  },
  {
   "cell_type": "code",
   "execution_count": 2,
   "id": "52ec9703",
   "metadata": {},
   "outputs": [
    {
     "data": {
      "text/plain": [
       "True"
      ]
     },
     "execution_count": 2,
     "metadata": {},
     "output_type": "execute_result"
    }
   ],
   "source": [
    "dotenv_path = os.path.join(os.getcwd(), '..', '.env') #.env is in the parent directory\n",
    "load_dotenv(dotenv_path)"
   ]
  },
  {
   "cell_type": "code",
   "execution_count": 3,
   "id": "f799344f",
   "metadata": {},
   "outputs": [
    {
     "name": "stdout",
     "output_type": "stream",
     "text": [
      "Gemini API configured.\n"
     ]
    }
   ],
   "source": [
    "\n",
    "gemini_api_key = os.getenv(\"GEMINI_API_KEY\")\n",
    "\n",
    "# config the Gemini API key\n",
    "try:\n",
    "    genai.configure(api_key=gemini_api_key)\n",
    "    print(\"Gemini API configured.\")\n",
    "except Exception as e:\n",
    "    print(f\"Error configuring Gemini API: {e}\")"
   ]
  },
  {
   "cell_type": "markdown",
   "id": "055611f7",
   "metadata": {},
   "source": [
    "##THE model\n",
    "\n",
    "\n",
    "`gemini-2.5-flash-preview-05-20`, `gemini-2.5-pro-preview-06-05`,`gemini-2.0-flash`,`gemini-2.0-flash-lite`,`gemini-1.5-flash`,`gemini-1.5-flash-8b`,`gemini-1.5-pro`"
   ]
  },
  {
   "cell_type": "code",
   "execution_count": 4,
   "id": "d40b9444",
   "metadata": {},
   "outputs": [
    {
     "name": "stdout",
     "output_type": "stream",
     "text": [
      "Gemini model 'gemini-2.5-flash-preview-05-20' initialized.\n"
     ]
    }
   ],
   "source": [
    "\n",
    "# This step might vary slightly based on the exact Gemini model version or task\n",
    "if gemini_api_key: # Only proceed if API key was loaded\n",
    "    try:\n",
    "        model = genai.GenerativeModel('gemini-2.5-flash-preview-05-20')\n",
    "        print(\"Gemini model 'gemini-2.5-flash-preview-05-20' initialized.\")\n",
    "    except Exception as e:\n",
    "        print(f\"Error initializing Gemini model: {e}\")\n",
    "else:\n",
    "    print(\"Cannot initialize model, API key not loaded.\")"
   ]
  },
  {
   "cell_type": "markdown",
   "id": "db78314d",
   "metadata": {},
   "source": []
  },
  {
   "cell_type": "code",
   "execution_count": 5,
   "id": "9ac74aec",
   "metadata": {},
   "outputs": [],
   "source": [
    "example_headline = \"INTC surges 3% after announcing record layoffs and confirms new process deadlines.\"\n",
    "# example_headline = \"Company Y faces backlash over recent policy changes, stock price tumbles.\"\n",
    "# example_headline = \"Market remains flat as investors await economic data.\"\n",
    "\n",
    "ticker_symbol = \"INTC\" \n",
    "\n",
    "# Craft a prompt for sentiment analysis\n",
    "# You can customize this prompt to get the output format you desire (e.g., Positive/Negative/Neutral, a score, reasons)\n",
    "prompt = f\"\"\"Analyze the sentiment of the following news headline regarding the company {ticker_symbol}.\n",
    "Classify the sentiment as Positive, Negative, or Neutral. Also search the web for any relevant news about the company to support your analysis.\n",
    "Provide a brief explanation for your classification, and also when was the latest intel 10Q.\n",
    "\n",
    "Headline: \"{example_headline}\"\n",
    "\n",
    "Sentiment:\n",
    "Explanation:\"\"\""
   ]
  },
  {
   "cell_type": "markdown",
   "id": "f3f39b49",
   "metadata": {},
   "source": [
    "## Do sentiment analysis (conceptual)\n",
    "\n",
    "no headlines yetm just a demo prompt.\n",
    "\n",
    "core idea is to:\n",
    "1 load a csv of prompts then ask the model to perform sentiment analysis, classify by significance and sentiment (Bullis, Bearsih, Neutral).\n",
    "2. Send the headline and prompt to the model.\n",
    "3. Process the model's response."
   ]
  },
  {
   "cell_type": "code",
   "execution_count": 6,
   "id": "65d95932",
   "metadata": {},
   "outputs": [
    {
     "name": "stdout",
     "output_type": "stream",
     "text": [
      "\n",
      "--- Gemini API Response ---\n",
      "**Sentiment: Positive**\n",
      "\n",
      "**Explanation:**\n",
      "\n",
      "While \"record layoffs\" can individually carry negative connotations due to the human impact, in the context of financial news and stock market reactions, they are often interpreted by investors as a positive sign of **cost-cutting, efficiency improvements, and a commitment to profitability**. Companies undertaking such measures are often viewed as \"right-sizing\" or becoming \"leaner.\" The market often rewards this fiscal discipline, especially for a company like Intel that has been undergoing a significant turnaround.\n",
      "\n",
      "Furthermore, \"confirms new process deadlines\" suggests **clarity, commitment, and a defined path forward** for its technology roadmap. This reduces uncertainty, which the market generally dislikes.\n",
      "\n",
      "The most crucial indicator in the headline is \"INTC surges 3%.\" This explicit stock price increase directly reflects a **positive market reaction** to the combined news, indicating that investors view these announcements favorably as steps towards improving Intel's financial health and competitive position.\n",
      "\n",
      "---\n",
      "\n",
      "**Relevant News & Context to Support Analysis:**\n",
      "\n",
      "Intel (INTC) has been undergoing a significant multi-year turnaround plan under CEO Pat Gelsinger, often referred to as \"IDM 2.0\" (Integrated Device Manufacturer 2.0). Key pillars of this plan include:\n",
      "\n",
      "1.  **Cost Reduction & Efficiency:** Intel has publicly stated goals of achieving billions in cost savings through efficiency measures, which often include workforce reductions (layoffs), optimizing operations, and divesting non-core assets. News reports throughout late 2022 and 2023 frequently highlighted various rounds of layoffs across different divisions as part of this initiative. Investors generally view these actions as necessary for long-term financial health and profitability, especially for a large, established company facing stiff competition.\n",
      "2.  **Process Technology Leadership:** Intel is aggressively pursuing a \"5 nodes in 4 years\" strategy to regain leadership in semiconductor manufacturing technology. Confirming \"new process deadlines\" aligns with their stated commitment to this ambitious roadmap (e.g., Intel 4, Intel 3, 20A, 18A). Providing concrete deadlines, even if they are \"new,\" signals progress and a structured approach to achieving their technological goals, which is crucial for their future competitiveness.\n",
      "\n",
      "Therefore, the headline's content perfectly aligns with Intel's ongoing strategic initiatives, and the market's positive reaction (stock surge) indicates approval of these efforts.\n",
      "\n",
      "---\n",
      "\n",
      "**Latest Intel (INTC) 10Q:**\n",
      "\n",
      "As of May 2024, the latest 10-Q filed by Intel (INTC) would be for **Q1 2024**, which ended on March 30, 2024. This report was filed with the SEC on **April 26, 2024**.\n"
     ]
    }
   ],
   "source": [
    "try:\n",
    "    response = model.generate_content(prompt)\n",
    "    \n",
    "    print(\"\\n--- Gemini API Response ---\")\n",
    "    if response.parts:\n",
    "        sentiment_analysis_result = response.text \n",
    "        print(sentiment_analysis_result)\n",
    "    else:\n",
    "        print(\"No parts in response, printing full response object:\")\n",
    "        print(response)\n",
    "        if hasattr(response, 'text'):\n",
    "                print(f\"Response text: {response.text}\")\n",
    "\n",
    "except Exception as e:\n",
    "    print(f\"An error occurred during sentiment analysis: {e}\")\n",
    "# "
   ]
  },
  {
   "cell_type": "markdown",
   "id": "b18a13cf",
   "metadata": {},
   "source": [
    "## To DO\n",
    "\n",
    "1.  **Data Acquisition**: find a way to get news headlines for your specific ticker and time period. This could involve:\n",
    "    *   Using news APIs (e.g., NewsAPI, Alpha Vantage, EOD Historical Data - some only with subscription).\n",
    "    *   Web scraping python libs exist already.\n",
    "    *   pre-existing datasets if posible.\n",
    "4.  **Refine Prompt**: This is everything, bad prompt is bad analysis (e.g., just \"Positive\", \"Negative\", \"Neutral\", or a numerical score, or with confidence levels).\n",
    "6.  **Rate Limiting**: The api is not an infnite source of endlesss compute."
   ]
  }
 ],
 "metadata": {
  "kernelspec": {
   "display_name": "sentiment_analysis_env",
   "language": "python",
   "name": "python3"
  },
  "language_info": {
   "codemirror_mode": {
    "name": "ipython",
    "version": 3
   },
   "file_extension": ".py",
   "mimetype": "text/x-python",
   "name": "python",
   "nbconvert_exporter": "python",
   "pygments_lexer": "ipython3",
   "version": "3.12.7"
  }
 },
 "nbformat": 4,
 "nbformat_minor": 5
}
