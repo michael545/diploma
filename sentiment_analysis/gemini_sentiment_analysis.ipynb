{
 "cells": [
  {
   "cell_type": "markdown",
   "id": "80561239",
   "metadata": {},
   "source": [
    "# Sentiment analysis with Gemini API\n",
    "\n",
    "Notebook to do:\n",
    "1. Get the data (free apis, agentic mode for LLMs)\n",
    "1. Use `.env` file fo api keys.\n",
    "2. Initialize API client with the right model flash/pro/thinking whichever is best for sentiment analysis.\n",
    "3. Perform sentiment analysis on a sample news headline.\n",
    "- dependencies: `python-dotenv`, `google-generativeai`, `pandas`, `numpy`...."
   ]
  },
  {
   "cell_type": "code",
   "execution_count": 1,
   "id": "30b185b9",
   "metadata": {},
   "outputs": [
    {
     "name": "stderr",
     "output_type": "stream",
     "text": [
      "c:\\Users\\micha\\anaconda3\\envs\\sentiment_analysis_env\\Lib\\site-packages\\tqdm\\auto.py:21: TqdmWarning: IProgress not found. Please update jupyter and ipywidgets. See https://ipywidgets.readthedocs.io/en/stable/user_install.html\n",
      "  from .autonotebook import tqdm as notebook_tqdm\n"
     ]
    }
   ],
   "source": [
    "import os\n",
    "import google.generativeai as genai\n",
    "from dotenv import load_dotenv"
   ]
  },
  {
   "cell_type": "code",
   "execution_count": 2,
   "id": "52ec9703",
   "metadata": {},
   "outputs": [
    {
     "data": {
      "text/plain": [
       "True"
      ]
     },
     "execution_count": 2,
     "metadata": {},
     "output_type": "execute_result"
    }
   ],
   "source": [
    "dotenv_path = os.path.join(os.getcwd(), '..', '.env') #.env is in the parent directory\n",
    "load_dotenv(dotenv_path)"
   ]
  },
  {
   "cell_type": "code",
   "execution_count": 3,
   "id": "f799344f",
   "metadata": {},
   "outputs": [
    {
     "name": "stdout",
     "output_type": "stream",
     "text": [
      "Gemini API configured.\n"
     ]
    }
   ],
   "source": [
    "\n",
    "gemini_api_key = os.getenv(\"GEMINI_API_KEY\")\n",
    "\n",
    "# config the Gemini API key\n",
    "try:\n",
    "    genai.configure(api_key=gemini_api_key)\n",
    "    print(\"Gemini API configured.\")\n",
    "except Exception as e:\n",
    "    print(f\"Error configuring Gemini API: {e}\")"
   ]
  },
  {
   "cell_type": "markdown",
   "id": "055611f7",
   "metadata": {},
   "source": [
    "## Initialize the model\n",
    "\n",
    "\n",
    "`gemini-2.5-flash-preview-05-20`, `gemini-2.5-pro-preview-06-05`,`gemini-2.0-flash`,`gemini-2.0-flash-lite`,`gemini-1.5-flash`,`gemini-1.5-flash-8b`,`gemini-1.5-pro`"
   ]
  },
  {
   "cell_type": "code",
   "execution_count": null,
   "id": "d40b9444",
   "metadata": {},
   "outputs": [
    {
     "name": "stdout",
     "output_type": "stream",
     "text": [
      "Gemini model 'gemini-2.5-flash-preview-05-20' initialized.\n"
     ]
    }
   ],
   "source": [
    "\n",
    "# This step might vary slightly based on the exact Gemini model version or task\n",
    "if gemini_api_key: # Only proceed if API key was loaded\n",
    "    try:\n",
    "        model = genai.GenerativeModel('gemini-2.5-flash-preview-05-20')\n",
    "        print(\"Gemini model 'gemini-2.5-flash-preview-05-20' initialized.\")\n",
    "    except Exception as e:\n",
    "        print(f\"Error initializing Gemini model: {e}\")\n",
    "else:\n",
    "    print(\"Cannot initialize model, API key not loaded.\")"
   ]
  },
  {
   "cell_type": "markdown",
   "id": "db78314d",
   "metadata": {},
   "source": [
    "## Prompt prep"
   ]
  },
  {
   "cell_type": "code",
   "execution_count": 122,
   "id": "9ac74aec",
   "metadata": {},
   "outputs": [],
   "source": [
    "example_headline = \"INTC surges 3% after announcing record layoffs and confirms new process deadlines.\"\n",
    "# example_headline = \"Company Y faces backlash over recent policy changes, stock price tumbles.\"\n",
    "# example_headline = \"Market remains flat as investors await economic data.\"\n",
    "\n",
    "ticker_symbol = \"INTC\" \n",
    "\n",
    "# Craft a prompt for sentiment analysis\n",
    "# You can customize this prompt to get the output format you desire (e.g., Positive/Negative/Neutral, a score, reasons)\n",
    "prompt = f\"\"\"Analyze the sentiment of the following news headline regarding the company {ticker_symbol}.\n",
    "Classify the sentiment as Positive, Negative, or Neutral. Also search the web for any relevant news about the company to support your analysis.\n",
    "Provide a brief explanation for your classification.\n",
    "\n",
    "Headline: \"{example_headline}\"\n",
    "\n",
    "Sentiment:\n",
    "Explanation:\"\"\""
   ]
  },
  {
   "cell_type": "markdown",
   "id": "f3f39b49",
   "metadata": {},
   "source": [
    "## Do sentiment analysis (conceptual)\n",
    "\n",
    "no headlines yetm just a demo prompt.\n",
    "\n",
    "The core idea is to:\n",
    "1 load a csv of prompts then ask the model to perform sentiment analysis, classify by significance and sentiment (Bullis, Bearsih, Neutral).\n",
    "2. Send the headline and prompt to the model.\n",
    "3. Process the model's response."
   ]
  },
  {
   "cell_type": "code",
   "execution_count": 123,
   "id": "65d95932",
   "metadata": {},
   "outputs": [
    {
     "name": "stdout",
     "output_type": "stream",
     "text": [
      "\n",
      "--- Gemini API Response ---\n",
      "**Sentiment:** Positive\n",
      "\n",
      "**Explanation:**\n",
      "The headline explicitly states \"INTC surges 3%,\" which is a clear indicator of a positive market reaction. While \"record layoffs\" might typically be seen as negative news, the stock's surge suggests the market interprets these drastic measures as a necessary step towards cost-cutting, efficiency improvements, and long-term profitability. For a company like Intel that has faced significant financial and operational challenges (including past manufacturing delays), layoffs are often viewed by investors as a decisive move to streamline operations and improve financial health.\n",
      "\n",
      "Furthermore, \"confirms new process deadlines\" signals a commitment to addressing past manufacturing issues and provides a clear roadmap for future product development and production. This certainty and proactive approach are also positive signals for investors looking for a turnaround. Therefore, despite the harsh reality of layoffs, the market views these actions as crucial and positive steps for Intel's future performance and competitiveness.\n",
      "\n",
      "---\n",
      "\n",
      "**Relevant News from the Web to Support Analysis:**\n",
      "\n",
      "A quick search for \"Intel layoffs\" and \"Intel process roadmap\" reveals consistent themes over the past year or two:\n",
      "\n",
      "1.  **Cost-Cutting and Restructuring:** Intel has been undergoing a significant restructuring under CEO Pat Gelsinger. Announcements of layoffs and cost reductions (often in the billions of dollars) have been widely reported as part of a strategy to improve profitability and become more agile. Analysts and investors have largely seen these moves as essential for Intel's long-term viability, even if painful. For example, in October 2022, Intel announced plans for \"significant cost reductions\" including layoffs, and this was generally interpreted as a necessary step in their turnaround efforts.\n",
      "2.  **Manufacturing Turnaround (IDM 2.0 Strategy):** Intel has been heavily focused on regaining its manufacturing leadership, an initiative dubbed \"IDM 2.0.\" This involves aggressive goals to deliver \"five nodes in four years\" (referring to manufacturing process technology). The confirmation of \"new process deadlines\" aligns with this strategy, indicating progress and commitment to hitting their technology roadmap. Investors generally welcome clear deadlines and progress in manufacturing, as past delays have severely impacted Intel's competitiveness.\n",
      "\n",
      "**In summary:** The market's positive reaction (stock surge) to layoffs and confirmed process deadlines is consistent with the broader narrative around Intel's turnaround strategy, where aggressive cost-cutting and a focused push on manufacturing are seen as crucial for the company's future success.\n"
     ]
    }
   ],
   "source": [
    "try:\n",
    "    response = model.generate_content(prompt)\n",
    "    \n",
    "    print(\"\\n--- Gemini API Response ---\")\n",
    "    if response.parts:\n",
    "        sentiment_analysis_result = response.text \n",
    "        print(sentiment_analysis_result)\n",
    "    else:\n",
    "        print(\"No parts in response, printing full response object:\")\n",
    "        print(response)\n",
    "        if hasattr(response, 'text'):\n",
    "                print(f\"Response text: {response.text}\")\n",
    "\n",
    "except Exception as e:\n",
    "    print(f\"An error occurred during sentiment analysis: {e}\")\n",
    "# "
   ]
  },
  {
   "cell_type": "markdown",
   "id": "b18a13cf",
   "metadata": {},
   "source": [
    "## Next Steps\n",
    "\n",
    "1.  **Data Acquisition**: You'll need to find a way to get news headlines for your specific ticker and time period. This could involve:\n",
    "    *   Using news APIs (e.g., NewsAPI, Alpha Vantage, EOD Historical Data - many require subscriptions).\n",
    "    *   Web scraping (be mindful of website terms of service).\n",
    "    *   Using pre-existing datasets if available.\n",
    "2.  **Data Loading**: Once you have the data, load it into this notebook (e.g., using pandas).\n",
    "3.  **Iterate and Analyze**: Loop through your headlines, send each one to the Gemini API using a similar prompt structure, and store the results.\n",
    "4.  **Refine Prompt**: Adjust the prompt to get the sentiment in the format you need (e.g., just \"Positive\", \"Negative\", \"Neutral\", or a numerical score, or with confidence levels).\n",
    "5.  **Error Handling**: Implement more robust error handling for API calls.\n",
    "6.  **Rate Limiting**: Be aware of API rate limits if you are processing a large number of headlines."
   ]
  }
 ],
 "metadata": {
  "kernelspec": {
   "display_name": "sentiment_analysis_env",
   "language": "python",
   "name": "python3"
  },
  "language_info": {
   "codemirror_mode": {
    "name": "ipython",
    "version": 3
   },
   "file_extension": ".py",
   "mimetype": "text/x-python",
   "name": "python",
   "nbconvert_exporter": "python",
   "pygments_lexer": "ipython3",
   "version": "3.12.7"
  }
 },
 "nbformat": 4,
 "nbformat_minor": 5
}
