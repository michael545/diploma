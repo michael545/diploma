{
 "cells": [
  {
   "cell_type": "markdown",
   "id": "4fbbe8d1",
   "metadata": {},
   "source": [
    "# TimesFM Model: 5-Minute and 15-Minute Data Predictions\n",
    "\n",
    "This notebook uses the TimesFM model to generate predictions for stock datasets with 5-minute and 15-minute intervals."
   ]
  },
  {
   "cell_type": "code",
   "execution_count": 40,
   "id": "9c70d294",
   "metadata": {},
   "outputs": [],
   "source": [
    "import timesfm\n",
    "import pandas as pd\n",
    "import matplotlib.pyplot as plt\n",
    "from sklearn.metrics import mean_absolute_error, mean_squared_error\n",
    "import warnings\n",
    "import numpy as np\n",
    "import os\n",
    "# Import configuration and reusable functions\n",
    "from config_times_fm import TimesFmConfig"
   ]
  },
  {
   "cell_type": "code",
   "execution_count": 41,
   "id": "4b76e896",
   "metadata": {},
   "outputs": [
    {
     "name": "stderr",
     "output_type": "stream",
     "text": [
      "Fetching 5 files: 100%|██████████| 5/5 [00:00<?, ?it/s]\n",
      "\n"
     ]
    }
   ],
   "source": [
    "# Initialize TimesFm model using configuration\n",
    "tfm = timesfm.TimesFm(\n",
    "    hparams=timesfm.TimesFmHparams(\n",
    "        backend=TimesFmConfig.BACKEND,\n",
    "        per_core_batch_size=TimesFmConfig.PER_CORE_BATCH_SIZE,\n",
    "        horizon_len=TimesFmConfig.HORIZON_LEN,\n",
    "        num_layers=TimesFmConfig.NUM_LAYERS,\n",
    "        model_dims=TimesFmConfig.MODEL_DIMS,\n",
    "        context_len=TimesFmConfig.CONTEXT_LEN\n",
    "    ),\n",
    "    checkpoint=timesfm.TimesFmCheckpoint(huggingface_repo_id=TimesFmConfig.CHECKPOINT_REPO)\n",
    ")"
   ]
  },
  {
   "cell_type": "code",
   "execution_count": 42,
   "id": "52af6cae",
   "metadata": {},
   "outputs": [],
   "source": [
    "# Define reusable plotting function\n",
    "def plot_forecast(actual_data, forecast_data, title, save_path=None, xlabel='Date', ylabel='Price ($)'):\n",
    "    plt.figure(figsize=(18, 6))\n",
    "    plt.plot(actual_data['ds'], actual_data['actual'], color='green', label='Actual')\n",
    "    plt.plot(forecast_data['ds'], forecast_data['forecast'], color='red', linestyle='--', label='Predicted')\n",
    "    plt.title(title, fontsize=14)\n",
    "    plt.xlabel(xlabel, fontsize=10)\n",
    "    plt.ylabel(ylabel, fontsize=10)\n",
    "    plt.xticks(rotation=45)\n",
    "    plt.legend(frameon=True, shadow=True)\n",
    "    plt.grid(True, linestyle='--', alpha=0.6)\n",
    "    plt.tight_layout()\n",
    "    \n",
    "    # Save the plot if a path is provided\n",
    "    if save_path:\n",
    "        plt.savefig(save_path, dpi=300)\n",
    "        \n",
    "    plt.show()"
   ]
  },
  {
   "cell_type": "code",
   "execution_count": 43,
   "id": "22a653b5",
   "metadata": {},
   "outputs": [],
   "source": [
    "# Function to process a single dataset\n",
    "def process_dataset(file_path, time_interval):\n",
    "    # Extract ticker symbol from file name\n",
    "    ticker = os.path.basename(file_path).split('_')[0]\n",
    "    print(f'Processing {ticker} dataset with {time_interval} interval...')\n",
    "    \n",
    "    # Load the dataset\n",
    "    df = pd.read_csv(file_path)\n",
    "    df['Datetime'] = pd.to_datetime(df['Datetime'])\n",
    "    \n",
    "    # Format dataframe for TimesFM\n",
    "    input_df = pd.DataFrame({\n",
    "        'unique_id': [1] * len(df),\n",
    "        'ds': df['Datetime'].values.astype('datetime64[ns]'), \n",
    "        'y': df['Close']\n",
    "    })\n",
    "    \n",
    "    # Config\n",
    "    context_window = 2048\n",
    "    forecast_horizon = 128\n",
    "    max_start = len(input_df) - context_window - forecast_horizon\n",
    "    \n",
    "    if max_start < 0:\n",
    "        print(f'Warning: {ticker} dataset too small for forecasting with current window sizes')\n",
    "        return\n",
    "    \n",
    "    # Create results directory for this interval and ticker if it doesn't exist\n",
    "    interval_folder = f'times_{time_interval}_{ticker}'\n",
    "    ticker_results_dir = os.path.join('results', interval_folder)\n",
    "    os.makedirs(ticker_results_dir, exist_ok=True)\n",
    "    \n",
    "    # Define the starting points for each backtesting window\n",
    "    backtest_starts = list(range(0, max_start + 1, forecast_horizon))\n",
    "    \n",
    "    # Loop through each backtesting window\n",
    "    for idx, start_idx in enumerate(backtest_starts):\n",
    "        print(f'Processing window {idx+1}/{len(backtest_starts)}...')\n",
    "        \n",
    "        context_end = start_idx + context_window\n",
    "        context_data = input_df.iloc[start_idx:context_end]\n",
    "        \n",
    "        # Determine frequency for TimesFM based on time interval\n",
    "        if time_interval == '5M':\n",
    "            freq = '5min'\n",
    "        elif time_interval == '15M':\n",
    "            freq = '15min'\n",
    "        else:\n",
    "            freq = 'h'  # Default to hourly\n",
    "        \n",
    "        forecast_df = tfm.forecast_on_df(\n",
    "            context_data,\n",
    "            freq=freq,\n",
    "            value_name='y',\n",
    "            num_jobs=-1\n",
    "        )[:forecast_horizon]\n",
    "        \n",
    "        # Align the forecast with the actual data\n",
    "        actual_start = context_end\n",
    "        actual_end = actual_start + forecast_horizon\n",
    "        actual_data = input_df.iloc[actual_start:actual_end].reset_index(drop=True)\n",
    "        forecast_df = forecast_df.reset_index(drop=True)\n",
    "        \n",
    "        # Only keep rows where both actual and forecast exist\n",
    "        min_len = min(len(actual_data), len(forecast_df))\n",
    "        actual_data = actual_data.iloc[:min_len]\n",
    "        forecast_df = forecast_df.iloc[:min_len]\n",
    "        \n",
    "        mae = mean_absolute_error(actual_data['y'], forecast_df['timesfm'])\n",
    "        mse = mean_squared_error(actual_data['y'], forecast_df['timesfm'])\n",
    "        rmse = np.sqrt(mse)\n",
    "        \n",
    "        # Plot the forecast for this window\n",
    "        # Align forecast and actual by timestamp for plotting (in case of missing/non-trading periods)\n",
    "        merged_plot = pd.merge(\n",
    "            actual_data[['ds', 'y']],\n",
    "            forecast_df[['ds', 'timesfm']],\n",
    "            on='ds',\n",
    "            how='inner'\n",
    "        )\n",
    "        title = f'{ticker} ({time_interval}) - Window {idx+1} Forecast (MAE: {mae:.4f}, RMSE: {rmse:.4f})'\n",
    "        plot_path = os.path.join(ticker_results_dir, f'{ticker}_window_{idx+1}.png')\n",
    "        plot_forecast(\n",
    "            merged_plot.rename(columns={'y': 'actual', 'timesfm': 'forecast'}),\n",
    "            merged_plot.rename(columns={'y': 'actual', 'timesfm': 'forecast'}),\n",
    "            title,\n",
    "            save_path=plot_path\n",
    "        )\n",
    "        \n",
    "        # Save the results to CSV (aligned by date, actual, forecast)\n",
    "        results_df = pd.DataFrame({\n",
    "            'date': actual_data['ds'],\n",
    "            'actual': actual_data['y'],\n",
    "            'forecast': forecast_df['timesfm']\n",
    "        })\n",
    "        csv_path = os.path.join(ticker_results_dir, f'{ticker}_window_{idx+1}.csv')\n",
    "        # Overwrite the CSV file if it exists\n",
    "        results_df.to_csv(csv_path, index=False)\n",
    "        \n",
    "    print(f'Finished processing {ticker} dataset.')"
   ]
  },
  {
   "cell_type": "markdown",
   "id": "cf0889f5",
   "metadata": {},
   "source": [
    "## Process 5-Minute Data"
   ]
  },
  {
   "cell_type": "code",
   "execution_count": 44,
   "id": "3fb652e9",
   "metadata": {},
   "outputs": [
    {
     "name": "stdout",
     "output_type": "stream",
     "text": [
      "Found 11 CSV files in 5M directory:\n",
      "- INTC_5M.csv\n",
      "- IONQ_5M.csv\n",
      "- MSTR_5M.csv\n",
      "- MU_5M.csv\n",
      "- NVDA_5M.csv\n",
      "- QBTS_5M.csv\n",
      "- RGTI_5M.csv\n",
      "- SMCI_5M.csv\n",
      "- SRPT_5M.csv\n",
      "- TSLA_5M.csv\n",
      "- VKTX_5M.csv\n"
     ]
    }
   ],
   "source": [
    "# Define 5M data directory\n",
    "data_dir_5m = os.path.join(os.getcwd(), \"data\", \"5M\")\n",
    "\n",
    "# Get list of all CSV files in the 5M directory\n",
    "csv_files_5m = [os.path.join(data_dir_5m, f) for f in os.listdir(data_dir_5m) if f.endswith('.csv')]\n",
    "\n",
    "if not csv_files_5m:\n",
    "    print(f\"No CSV files found in {data_dir_5m}\")\n",
    "else:\n",
    "    print(f\"Found {len(csv_files_5m)} CSV files in 5M directory:\")\n",
    "    for file in csv_files_5m:\n",
    "        print(f\"- {os.path.basename(file)}\")"
   ]
  },
  {
   "cell_type": "markdown",
   "id": "ddf02cb2",
   "metadata": {},
   "source": [
    "## Process 15-Minute Data"
   ]
  },
  {
   "cell_type": "code",
   "execution_count": 46,
   "id": "821c2d8f",
   "metadata": {},
   "outputs": [
    {
     "name": "stdout",
     "output_type": "stream",
     "text": [
      "Found 11 CSV files in 15M directory:\n",
      "- INTC_15M.csv\n",
      "- IONQ_15M.csv\n",
      "- MSTR_15M.csv\n",
      "- MU_15M.csv\n",
      "- NVDA_15M.csv\n",
      "- QBTS_15M.csv\n",
      "- RGTI_15M.csv\n",
      "- SMCI_15M.csv\n",
      "- SRPT_15M.csv\n",
      "- TSLA_15M.csv\n",
      "- VKTX_15M.csv\n"
     ]
    }
   ],
   "source": [
    "# Define 15M data directory\n",
    "data_dir_15m = os.path.join(os.getcwd(), \"data\", \"15M\")\n",
    "\n",
    "# Get list of all CSV files in the 15M directory\n",
    "csv_files_15m = [os.path.join(data_dir_15m, f) for f in os.listdir(data_dir_15m) if f.endswith('.csv')]\n",
    "\n",
    "if not csv_files_15m:\n",
    "    print(f\"No CSV files found in {data_dir_15m}\")\n",
    "else:\n",
    "    print(f\"Found {len(csv_files_15m)} CSV files in 15M directory:\")\n",
    "    for file in csv_files_15m:\n",
    "        print(f\"- {os.path.basename(file)}\")"
   ]
  }
 ],
 "metadata": {
  "kernelspec": {
   "display_name": "myenv-3-10",
   "language": "python",
   "name": "python3"
  },
  "language_info": {
   "codemirror_mode": {
    "name": "ipython",
    "version": 3
   },
   "file_extension": ".py",
   "mimetype": "text/x-python",
   "name": "python",
   "nbconvert_exporter": "python",
   "pygments_lexer": "ipython3",
   "version": "3.10.1"
  }
 },
 "nbformat": 4,
 "nbformat_minor": 5
}
