{
 "cells": [
  {
   "cell_type": "markdown",
   "id": "fbecba55",
   "metadata": {},
   "source": [
    "# Market Data Fetcher\n",
    "\n",
    "This notebook fetches 15-minute and 5-minute interval market data for specified tickers and saves them to the data folder."
   ]
  },
  {
   "cell_type": "code",
   "execution_count": 1,
   "id": "c18c51cf",
   "metadata": {},
   "outputs": [],
   "source": [
    "import time\n",
    "import yfinance as yf\n",
    "import os"
   ]
  },
  {
   "cell_type": "code",
   "execution_count": 2,
   "id": "86d6caf4",
   "metadata": {},
   "outputs": [],
   "source": [
    "tickers = [\"IONQ\", \"RGTI\", \"NVDA\", \"TSLA\", \"QBTS\", \"SMCI\", \"MU\", \"MSTR\", \"SRPT\", \"INTC\", \"VKTX\"]\n",
    "save_dir = os.path.join(os.getcwd(), \"data\")\n",
    "intervals = [\"15m\", \"5m\"]\n",
    "period = \"60d\" # For intraday data, max historical data is limited"
   ]
  },
  {
   "cell_type": "code",
   "execution_count": 3,
   "id": "e7468fc2",
   "metadata": {},
   "outputs": [],
   "source": [
    "def fetch_and_save_prices(ticker, interval):\n",
    "    filename = os.path.join(save_dir, f\"{ticker}_{interval.upper()}.csv\")\n",
    "\n",
    "    if os.path.exists(filename):\n",
    "        print(f\"File {filename} skip download.\")\n",
    "        return\n",
    "    \n",
    "    try:\n",
    "\n",
    "        stock = yf.Ticker(ticker)\n",
    "        df = stock.history(period=period, interval=interval, prepost=True)\n",
    "        \n",
    "        if df.empty:\n",
    "            print(f\"No data found for {ticker} with {interval} interval.\")\n",
    "            return\n",
    "        \n",
    "        df.to_csv(filename)\n",
    "        print(f\"Saved {ticker} {interval} data to {filename}\")\n",
    "    except Exception as e:\n",
    "        print(f\"Error fetching data for {ticker}\")"
   ]
  },
  {
   "cell_type": "code",
   "execution_count": 4,
   "id": "71799c3c",
   "metadata": {},
   "outputs": [
    {
     "name": "stdout",
     "output_type": "stream",
     "text": [
      "Fetching 15-minute interval data...\n",
      "Saved IONQ 15m data to c:\\Users\\micha\\code\\finance\\diploma\\data\\IONQ_15M.csv\n",
      "Saved RGTI 15m data to c:\\Users\\micha\\code\\finance\\diploma\\data\\RGTI_15M.csv\n",
      "Saved NVDA 15m data to c:\\Users\\micha\\code\\finance\\diploma\\data\\NVDA_15M.csv\n",
      "Saved TSLA 15m data to c:\\Users\\micha\\code\\finance\\diploma\\data\\TSLA_15M.csv\n",
      "Saved QBTS 15m data to c:\\Users\\micha\\code\\finance\\diploma\\data\\QBTS_15M.csv\n",
      "Saved SMCI 15m data to c:\\Users\\micha\\code\\finance\\diploma\\data\\SMCI_15M.csv\n",
      "Saved MU 15m data to c:\\Users\\micha\\code\\finance\\diploma\\data\\MU_15M.csv\n",
      "Saved MSTR 15m data to c:\\Users\\micha\\code\\finance\\diploma\\data\\MSTR_15M.csv\n",
      "Saved SRPT 15m data to c:\\Users\\micha\\code\\finance\\diploma\\data\\SRPT_15M.csv\n",
      "Saved INTC 15m data to c:\\Users\\micha\\code\\finance\\diploma\\data\\INTC_15M.csv\n",
      "Saved VKTX 15m data to c:\\Users\\micha\\code\\finance\\diploma\\data\\VKTX_15M.csv\n"
     ]
    }
   ],
   "source": [
    "# Fetch 15-minute data for all tickers\n",
    "print(\"Fetching 15-minute interval data...\")\n",
    "for ticker in tickers:\n",
    "    fetch_and_save_prices(ticker, \"15m\")\n",
    "    time.sleep(1)  # Adding delay to avoid API rate limits"
   ]
  },
  {
   "cell_type": "code",
   "execution_count": 5,
   "id": "cf4842fc",
   "metadata": {},
   "outputs": [
    {
     "name": "stdout",
     "output_type": "stream",
     "text": [
      "Fetching 5-minute interval data...\n",
      "Saved IONQ 5m data to c:\\Users\\micha\\code\\finance\\diploma\\data\\IONQ_5M.csv\n",
      "Saved RGTI 5m data to c:\\Users\\micha\\code\\finance\\diploma\\data\\RGTI_5M.csv\n",
      "Saved NVDA 5m data to c:\\Users\\micha\\code\\finance\\diploma\\data\\NVDA_5M.csv\n",
      "Saved TSLA 5m data to c:\\Users\\micha\\code\\finance\\diploma\\data\\TSLA_5M.csv\n",
      "Saved QBTS 5m data to c:\\Users\\micha\\code\\finance\\diploma\\data\\QBTS_5M.csv\n",
      "Saved SMCI 5m data to c:\\Users\\micha\\code\\finance\\diploma\\data\\SMCI_5M.csv\n",
      "Saved MU 5m data to c:\\Users\\micha\\code\\finance\\diploma\\data\\MU_5M.csv\n",
      "Saved MSTR 5m data to c:\\Users\\micha\\code\\finance\\diploma\\data\\MSTR_5M.csv\n",
      "Saved SRPT 5m data to c:\\Users\\micha\\code\\finance\\diploma\\data\\SRPT_5M.csv\n",
      "Saved INTC 5m data to c:\\Users\\micha\\code\\finance\\diploma\\data\\INTC_5M.csv\n",
      "Saved VKTX 5m data to c:\\Users\\micha\\code\\finance\\diploma\\data\\VKTX_5M.csv\n"
     ]
    }
   ],
   "source": [
    "# Fetch 5-minute data for all tickers\n",
    "print(\"Fetching 5-minute interval data...\")\n",
    "for ticker in tickers:\n",
    "    fetch_and_save_prices(ticker, \"5m\")\n",
    "    time.sleep(1)  # Adding delay to avoid API rate limits"
   ]
  }
 ],
 "metadata": {
  "kernelspec": {
   "display_name": "myenv-3-10",
   "language": "python",
   "name": "python3"
  },
  "language_info": {
   "codemirror_mode": {
    "name": "ipython",
    "version": 3
   },
   "file_extension": ".py",
   "mimetype": "text/x-python",
   "name": "python",
   "nbconvert_exporter": "python",
   "pygments_lexer": "ipython3",
   "version": "3.10.1"
  }
 },
 "nbformat": 4,
 "nbformat_minor": 5
}
