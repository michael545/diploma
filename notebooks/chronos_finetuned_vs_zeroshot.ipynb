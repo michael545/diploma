{
 "cells": [],
 "metadata": {
  "kernelspec": {
   "display_name": "ts_analysis_env",
   "language": "python",
   "name": "ts_analysis_env"
  },
  "language_info": {
   "name": "python",
   "version": "3.10.18"
  }
 },
 "nbformat": 4,
 "nbformat_minor": 5
}
