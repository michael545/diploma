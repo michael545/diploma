{
 "cells": [
  {
   "cell_type": "markdown",
   "id": "266a2e57",
   "metadata": {},
   "source": [
    "# Fine-Tuned vs. Zero-Shot Chronos: A Comparison\n",
    "\n",
    "This notebook compares the performance of two models on the INTC 5M dataset:\n",
    "1.  **Fine-Tuned Model**: The Chronos model that was fine-tuned on the first 90% of the INTC data.\n",
    "2.  **Zero-Shot Model**: The base `amazon/chronos-bolt-base` model with no prior training on this specific dataset.\n",
    "\n",
    "**Goal**: To determine if fine-tuning improved the model's forecasting accuracy on unseen data.\n",
    "\n",
    "**Process**:\n",
    "1.  Load the INTC 5M dataset.\n",
    "2.  Isolate the last 10% of the data as the test set.\n",
    "3.  Load the pre-saved fine-tuned `TimeSeriesPredictor`.\n",
    "4.  Load the base `ChronosBoltPipeline` for zero-shot prediction.\n",
    "5.  Generate forecasts from both models for the test period.\n",
    "6.  Visualize the results and compare performance metrics."
   ]
  },
  {
   "cell_type": "code",
   "execution_count": 1,
   "id": "9934e2d4",
   "metadata": {},
   "outputs": [
    {
     "name": "stderr",
     "output_type": "stream",
     "text": [
      "c:\\Users\\micha\\anaconda3\\envs\\ts_analysis_env\\lib\\site-packages\\tqdm\\auto.py:21: TqdmWarning: IProgress not found. Please update jupyter and ipywidgets. See https://ipywidgets.readthedocs.io/en/stable/user_install.html\n",
      "  from .autonotebook import tqdm as notebook_tqdm\n"
     ]
    },
    {
     "data": {
      "text/plain": [
       "60"
      ]
     },
     "execution_count": 1,
     "metadata": {},
     "output_type": "execute_result"
    }
   ],
   "source": [
    "import pandas as pd\n",
    "import numpy as np\n",
    "import os\n",
    "import torch\n",
    "import plotly.graph_objects as go\n",
    "from sklearn.metrics import mean_absolute_error, mean_squared_error\n",
    "\n",
    "# For fine-tuned model\n",
    "from autogluon.timeseries import TimeSeriesDataFrame, TimeSeriesPredictor\n",
    "\n",
    "# For zero-shot model\n",
    "from chronos import ChronosBoltPipeline\n",
    "\n",
    "# Clear memory\n",
    "import gc\n",
    "if torch.cuda.is_available():\n",
    "    torch.cuda.empty_cache()\n",
    "gc.collect()"
   ]
  },
  {
   "cell_type": "code",
   "execution_count": null,
   "id": "f0121a4c",
   "metadata": {},
   "outputs": [
    {
     "name": "stdout",
     "output_type": "stream",
     "text": [
      "Configuration:\n",
      "  Ticker: INTC\n",
      "  Data Path: ../data/5M/INTC_5M.csv\n",
      "  Fine-Tuned Model Path: ../models/chronos_finetuned_INTC_5M\n",
      "  Zero-Shot Model: amazon/chronos-bolt-base\n"
     ]
    }
   ],
   "source": [
    "# --- Configuration ---\n",
    "TICKER = \"INTC\"\n",
    "DATA_TIMEFRAME_ID = \"5M\"\n",
    "TIMEFRAME_FREQ = \"5T\"\n",
    "\n",
    "CONTEXT_LENGTH = 128 \n",
    "PREDICTION_LENGTH = 20 \n",
    "\n",
    "# --- Paths ---\n",
    "# Path to the data file\n",
    "data_path = f\"../data/{DATA_TIMEFRAME_ID}/{TICKER}_{DATA_TIMEFRAME_ID}.csv\"\n",
    "# Path to the saved fine-tuned model directory\n",
    "finetuned_model_path = f\"../models/chronos_finetuned_{TICKER}_{DATA_TIMEFRAME_ID}\"\n",
    "# Path for the base zero-shot model\n",
    "zeroshot_model_name = \"amazon/chronos-bolt-base\"\n",
    "\n",
    "print(\"Configuration:\")\n",
    "print(f\"  Ticker: {TICKER}\")\n",
    "print(f\"  Data Path: {data_path}\")\n",
    "print(f\"  Fine-Tuned Model Path: {finetuned_model_path}\")\n",
    "print(f\"  Zero-Shot Model: {zeroshot_model_name}\")"
   ]
  },
  {
   "cell_type": "code",
   "execution_count": 3,
   "id": "e263e138",
   "metadata": {},
   "outputs": [
    {
     "name": "stdout",
     "output_type": "stream",
     "text": [
      "📈 Loading data from: ../data/5M/INTC_5M.csv\n",
      "✅ Loaded and cleaned 11089 rows.\n"
     ]
    },
    {
     "name": "stderr",
     "output_type": "stream",
     "text": [
      "C:\\Users\\micha\\AppData\\Local\\Temp\\ipykernel_32256\\3988872040.py:7: FutureWarning: In a future version of pandas, parsing datetimes with mixed time zones will raise an error unless `utc=True`. Please specify `utc=True` to opt in to the new behaviour and silence this warning. To create a `Series` with mixed offsets and `object` dtype, please use `apply` and `datetime.datetime.strptime`\n",
      "  df['Datetime'] = pd.to_datetime(df['Datetime'])\n",
      "c:\\Users\\micha\\anaconda3\\envs\\ts_analysis_env\\lib\\site-packages\\autogluon\\timeseries\\dataset\\ts_dataframe.py:1009: FutureWarning: 'T' is deprecated and will be removed in a future version, please use 'min' instead.\n",
      "  offset = pd.tseries.frequencies.to_offset(freq)\n"
     ]
    },
    {
     "name": "stdout",
     "output_type": "stream",
     "text": [
      "✅ Created TimeSeriesDataFrame with 24372 rows.\n"
     ]
    }
   ],
   "source": [
    "# --- Load and Prepare Data ---\n",
    "print(f\"📈 Loading data from: {data_path}\")\n",
    "df = pd.read_csv(data_path)\n",
    "\n",
    "# The same robust datetime parsing from the fine-tuning notebook\n",
    "try:\n",
    "    df['Datetime'] = pd.to_datetime(df['Datetime'])\n",
    "    if df['Datetime'].dt.tz is not None:\n",
    "        df['Datetime'] = df['Datetime'].dt.tz_convert('UTC').dt.tz_localize(None)\n",
    "except Exception:\n",
    "    df['Datetime'] = pd.to_datetime(df['Datetime'], utc=True).dt.tz_localize(None)\n",
    "\n",
    "df = df.sort_values('Datetime').drop_duplicates(subset=['Datetime']).reset_index(drop=True)\n",
    "df = df.dropna(subset=['Close'])\n",
    "print(f\"✅ Loaded and cleaned {len(df)} rows.\")\n",
    "\n",
    "# --- Create TimeSeriesDataFrame ---\n",
    "# This format is needed for the fine-tuned AutoGluon predictor\n",
    "tsd = TimeSeriesDataFrame.from_data_frame(\n",
    "    pd.DataFrame({\n",
    "        'item_id': TICKER,\n",
    "        'timestamp': df['Datetime'],\n",
    "        'target': df['Close']\n",
    "    }),\n",
    "    id_column='item_id',\n",
    "    timestamp_column='timestamp'\n",
    ")\n",
    "# Ensure the data has a regular frequency, filling gaps with NaN\n",
    "tsd = tsd.convert_frequency(freq=TIMEFRAME_FREQ)\n",
    "print(f\"✅ Created TimeSeriesDataFrame with {len(tsd)} rows.\")"
   ]
  },
  {
   "cell_type": "code",
   "execution_count": 4,
   "id": "0d027b06",
   "metadata": {},
   "outputs": [
    {
     "name": "stdout",
     "output_type": "stream",
     "text": [
      "Data Split:\n",
      "  Context (for making predictions): 21934 rows\n",
      "  Test (for evaluation): 2438 rows\n",
      "  Context for Zero-Shot model: Last 128 points.\n"
     ]
    }
   ],
   "source": [
    "# --- Split Data: Use last 10% as the test set ---\n",
    "split_index = int(len(tsd) * 0.9)\n",
    "context_data = tsd.iloc[:split_index]\n",
    "test_data = tsd.iloc[split_index:]\n",
    "\n",
    "print(\"Data Split:\")\n",
    "print(f\"  Context (for making predictions): {len(context_data)} rows\")\n",
    "print(f\"  Test (for evaluation): {len(test_data)} rows\")\n",
    "\n",
    "# For the zero-shot model, we only need the last `CONTEXT_LENGTH` points as context\n",
    "zeroshot_context_tensor = torch.tensor(context_data['target'].values, dtype=torch.float32)[-CONTEXT_LENGTH:]\n",
    "print(f\"  Context for Zero-Shot model: Last {len(zeroshot_context_tensor)} points.\")"
   ]
  },
  {
   "cell_type": "code",
   "execution_count": 5,
   "id": "3ac71a07",
   "metadata": {},
   "outputs": [
    {
     "name": "stdout",
     "output_type": "stream",
     "text": [
      "Loading fine-tuned model...\n",
      "Generating forecast with fine-tuned model...\n"
     ]
    },
    {
     "name": "stderr",
     "output_type": "stream",
     "text": [
      "Passing a tuple of `past_key_values` is deprecated and will be removed in Transformers v4.48.0. You should pass an instance of `EncoderDecoderCache` instead, e.g. `past_key_values=EncoderDecoderCache.from_legacy_cache(past_key_values)`.\n"
     ]
    },
    {
     "name": "stdout",
     "output_type": "stream",
     "text": [
      "✅ Fine-tuned forecast generated.\n"
     ]
    }
   ],
   "source": [
    "# --- 1. Generate Predictions from Fine-Tuned Model ---\n",
    "print(\"Loading fine-tuned model...\")\n",
    "predictor_finetuned = TimeSeriesPredictor.load(finetuned_model_path)\n",
    "\n",
    "print(\"Generating forecast with fine-tuned model...\")\n",
    "# Predict the steps immediately following the context data\n",
    "forecast_finetuned = predictor_finetuned.predict(context_data, known_covariates=None)\n",
    "\n",
    "# Extract the mean forecast values\n",
    "predictions_finetuned = forecast_finetuned['mean'].values\n",
    "print(\"✅ Fine-tuned forecast generated.\")"
   ]
  },
  {
   "cell_type": "code",
   "execution_count": 6,
   "id": "ab603108",
   "metadata": {},
   "outputs": [
    {
     "name": "stdout",
     "output_type": "stream",
     "text": [
      "Loading zero-shot model...\n",
      "Generating forecast with zero-shot model...\n",
      "Generating forecast with zero-shot model...\n"
     ]
    },
    {
     "name": "stderr",
     "output_type": "stream",
     "text": [
      "c:\\Users\\micha\\anaconda3\\envs\\ts_analysis_env\\lib\\site-packages\\chronos\\chronos_bolt.py:527: UserWarning: We recommend keeping prediction length <= 64. The quality of longer predictions may degrade since the model is not optimized for it. \n",
      "  warnings.warn(msg)\n"
     ]
    },
    {
     "name": "stdout",
     "output_type": "stream",
     "text": [
      "✅ Zero-shot forecast generated.\n"
     ]
    }
   ],
   "source": [
    "# --- 2. Generate Predictions from Zero-Shot Model ---\n",
    "print(\"Loading zero-shot model...\")\n",
    "pipeline_zeroshot = ChronosBoltPipeline.from_pretrained(\n",
    "    zeroshot_model_name,\n",
    "    device_map=\"auto\",\n",
    "    torch_dtype=torch.bfloat16,\n",
    ")\n",
    "\n",
    "print(\"Generating forecast with zero-shot model...\")\n",
    "# Predict using the context tensor\n",
    "_, forecast_zeroshot_tensor = pipeline_zeroshot.predict_quantiles(\n",
    "    context=zeroshot_context_tensor,\n",
    "    prediction_length=len(test_data), # Predict for the entire test period\n",
    "    quantile_levels=[0.1, 0.5, 0.9]\n",
    ")\n",
    "\n",
    "# Extract the mean forecast values\n",
    "predictions_zeroshot = forecast_zeroshot_tensor.squeeze().cpu().numpy()\n",
    "print(\"✅ Zero-shot forecast generated.\")"
   ]
  },
  {
   "cell_type": "code",
   "execution_count": 7,
   "id": "8debde35",
   "metadata": {},
   "outputs": [
    {
     "name": "stdout",
     "output_type": "stream",
     "text": [
      "--- Performance Metrics on Test Set ---\n",
      "Fine-Tuned Model:\n",
      "  MAE: 0.5039\n",
      "  RMSE: 0.5550\n",
      "\n",
      "Zero-Shot Model:\n",
      "  MAE: 0.3960\n",
      "  RMSE: 0.4584\n",
      "------------------------------------\n"
     ]
    },
    {
     "ename": "ValueError",
     "evalue": "Mime type rendering requires nbformat>=4.2.0 but it is not installed",
     "output_type": "error",
     "traceback": [
      "\u001b[1;31m---------------------------------------------------------------------------\u001b[0m",
      "\u001b[1;31mValueError\u001b[0m                                Traceback (most recent call last)",
      "Cell \u001b[1;32mIn[7], line 60\u001b[0m\n\u001b[0;32m     49\u001b[0m fig\u001b[38;5;241m.\u001b[39madd_trace(go\u001b[38;5;241m.\u001b[39mScatter(\n\u001b[0;32m     50\u001b[0m     x\u001b[38;5;241m=\u001b[39mdates, y\u001b[38;5;241m=\u001b[39mpredictions_zeroshot,\n\u001b[0;32m     51\u001b[0m     mode\u001b[38;5;241m=\u001b[39m\u001b[38;5;124m'\u001b[39m\u001b[38;5;124mlines\u001b[39m\u001b[38;5;124m'\u001b[39m, name\u001b[38;5;241m=\u001b[39m\u001b[38;5;124mf\u001b[39m\u001b[38;5;124m'\u001b[39m\u001b[38;5;124mZero-Shot (MAE: \u001b[39m\u001b[38;5;132;01m{\u001b[39;00mmae_zeroshot\u001b[38;5;132;01m:\u001b[39;00m\u001b[38;5;124m.4f\u001b[39m\u001b[38;5;132;01m}\u001b[39;00m\u001b[38;5;124m)\u001b[39m\u001b[38;5;124m'\u001b[39m, line\u001b[38;5;241m=\u001b[39m\u001b[38;5;28mdict\u001b[39m(color\u001b[38;5;241m=\u001b[39m\u001b[38;5;124m'\u001b[39m\u001b[38;5;124mred\u001b[39m\u001b[38;5;124m'\u001b[39m, dash\u001b[38;5;241m=\u001b[39m\u001b[38;5;124m'\u001b[39m\u001b[38;5;124mdash\u001b[39m\u001b[38;5;124m'\u001b[39m)\n\u001b[0;32m     52\u001b[0m ))\n\u001b[0;32m     54\u001b[0m fig\u001b[38;5;241m.\u001b[39mupdate_layout(\n\u001b[0;32m     55\u001b[0m     title\u001b[38;5;241m=\u001b[39m\u001b[38;5;124mf\u001b[39m\u001b[38;5;124m\"\u001b[39m\u001b[38;5;124mFine-Tuned vs. Zero-Shot Forecast for \u001b[39m\u001b[38;5;132;01m{\u001b[39;00mTICKER\u001b[38;5;132;01m}\u001b[39;00m\u001b[38;5;124m\"\u001b[39m,\n\u001b[0;32m     56\u001b[0m     xaxis_title\u001b[38;5;241m=\u001b[39m\u001b[38;5;124m\"\u001b[39m\u001b[38;5;124mDatetime\u001b[39m\u001b[38;5;124m\"\u001b[39m,\n\u001b[0;32m     57\u001b[0m     yaxis_title\u001b[38;5;241m=\u001b[39m\u001b[38;5;124m\"\u001b[39m\u001b[38;5;124mClose Price\u001b[39m\u001b[38;5;124m\"\u001b[39m,\n\u001b[0;32m     58\u001b[0m     legend_title\u001b[38;5;241m=\u001b[39m\u001b[38;5;124m\"\u001b[39m\u001b[38;5;124mModel\u001b[39m\u001b[38;5;124m\"\u001b[39m\n\u001b[0;32m     59\u001b[0m )\n\u001b[1;32m---> 60\u001b[0m \u001b[43mfig\u001b[49m\u001b[38;5;241;43m.\u001b[39;49m\u001b[43mshow\u001b[49m\u001b[43m(\u001b[49m\u001b[43m)\u001b[49m\n",
      "File \u001b[1;32mc:\\Users\\micha\\anaconda3\\envs\\ts_analysis_env\\lib\\site-packages\\plotly\\basedatatypes.py:3420\u001b[0m, in \u001b[0;36mBaseFigure.show\u001b[1;34m(self, *args, **kwargs)\u001b[0m\n\u001b[0;32m   3387\u001b[0m \u001b[38;5;250m\u001b[39m\u001b[38;5;124;03m\"\"\"\u001b[39;00m\n\u001b[0;32m   3388\u001b[0m \u001b[38;5;124;03mShow a figure using either the default renderer(s) or the renderer(s)\u001b[39;00m\n\u001b[0;32m   3389\u001b[0m \u001b[38;5;124;03mspecified by the renderer argument\u001b[39;00m\n\u001b[1;32m   (...)\u001b[0m\n\u001b[0;32m   3416\u001b[0m \u001b[38;5;124;03mNone\u001b[39;00m\n\u001b[0;32m   3417\u001b[0m \u001b[38;5;124;03m\"\"\"\u001b[39;00m\n\u001b[0;32m   3418\u001b[0m \u001b[38;5;28;01mimport\u001b[39;00m\u001b[38;5;250m \u001b[39m\u001b[38;5;21;01mplotly\u001b[39;00m\u001b[38;5;21;01m.\u001b[39;00m\u001b[38;5;21;01mio\u001b[39;00m\u001b[38;5;250m \u001b[39m\u001b[38;5;28;01mas\u001b[39;00m\u001b[38;5;250m \u001b[39m\u001b[38;5;21;01mpio\u001b[39;00m\n\u001b[1;32m-> 3420\u001b[0m \u001b[38;5;28;01mreturn\u001b[39;00m pio\u001b[38;5;241m.\u001b[39mshow(\u001b[38;5;28mself\u001b[39m, \u001b[38;5;241m*\u001b[39margs, \u001b[38;5;241m*\u001b[39m\u001b[38;5;241m*\u001b[39mkwargs)\n",
      "File \u001b[1;32mc:\\Users\\micha\\anaconda3\\envs\\ts_analysis_env\\lib\\site-packages\\plotly\\io\\_renderers.py:415\u001b[0m, in \u001b[0;36mshow\u001b[1;34m(fig, renderer, validate, **kwargs)\u001b[0m\n\u001b[0;32m    410\u001b[0m     \u001b[38;5;28;01mraise\u001b[39;00m \u001b[38;5;167;01mValueError\u001b[39;00m(\n\u001b[0;32m    411\u001b[0m         \u001b[38;5;124m\"\u001b[39m\u001b[38;5;124mMime type rendering requires ipython but it is not installed\u001b[39m\u001b[38;5;124m\"\u001b[39m\n\u001b[0;32m    412\u001b[0m     )\n\u001b[0;32m    414\u001b[0m \u001b[38;5;28;01mif\u001b[39;00m \u001b[38;5;129;01mnot\u001b[39;00m nbformat \u001b[38;5;129;01mor\u001b[39;00m Version(nbformat\u001b[38;5;241m.\u001b[39m__version__) \u001b[38;5;241m<\u001b[39m Version(\u001b[38;5;124m\"\u001b[39m\u001b[38;5;124m4.2.0\u001b[39m\u001b[38;5;124m\"\u001b[39m):\n\u001b[1;32m--> 415\u001b[0m     \u001b[38;5;28;01mraise\u001b[39;00m \u001b[38;5;167;01mValueError\u001b[39;00m(\n\u001b[0;32m    416\u001b[0m         \u001b[38;5;124m\"\u001b[39m\u001b[38;5;124mMime type rendering requires nbformat>=4.2.0 but it is not installed\u001b[39m\u001b[38;5;124m\"\u001b[39m\n\u001b[0;32m    417\u001b[0m     )\n\u001b[0;32m    419\u001b[0m display_jupyter_version_warnings()\n\u001b[0;32m    421\u001b[0m ipython_display\u001b[38;5;241m.\u001b[39mdisplay(bundle, raw\u001b[38;5;241m=\u001b[39m\u001b[38;5;28;01mTrue\u001b[39;00m)\n",
      "\u001b[1;31mValueError\u001b[0m: Mime type rendering requires nbformat>=4.2.0 but it is not installed"
     ]
    }
   ],
   "source": [
    "# --- 3. Compare Forecasts and Evaluate ---\n",
    "\n",
    "# Ensure all arrays are the same length for fair comparison\n",
    "min_len = min(len(test_data), len(predictions_finetuned), len(predictions_zeroshot))\n",
    "actuals = test_data['target'].values[:min_len]\n",
    "predictions_finetuned = predictions_finetuned[:min_len]\n",
    "predictions_zeroshot = predictions_zeroshot[:min_len]\n",
    "dates = test_data.index.get_level_values('timestamp')[:min_len]\n",
    "\n",
    "# --- Calculate Metrics ---\n",
    "mae_finetuned = mean_absolute_error(actuals, predictions_finetuned)\n",
    "rmse_finetuned = np.sqrt(mean_squared_error(actuals, predictions_finetuned))\n",
    "\n",
    "mae_zeroshot = mean_absolute_error(actuals, predictions_zeroshot)\n",
    "rmse_zeroshot = np.sqrt(mean_squared_error(actuals, predictions_zeroshot))\n",
    "\n",
    "print(\"--- Performance Metrics on Test Set ---\")\n",
    "print(f\"Fine-Tuned Model:\")\n",
    "print(f\"  MAE: {mae_finetuned:.4f}\")\n",
    "print(f\"  RMSE: {rmse_finetuned:.4f}\")\n",
    "print(\"\\nZero-Shot Model:\")\n",
    "print(f\"  MAE: {mae_zeroshot:.4f}\")\n",
    "print(f\"  RMSE: {rmse_zeroshot:.4f}\")\n",
    "print(\"------------------------------------\")\n",
    "\n",
    "# --- Visualize the Comparison ---\n",
    "fig = go.Figure()\n",
    "\n",
    "# Historical Context\n",
    "fig.add_trace(go.Scatter(\n",
    "    x=context_data.tail(CONTEXT_LENGTH).index.get_level_values('timestamp'),\n",
    "    y=context_data.tail(CONTEXT_LENGTH)['target'],\n",
    "    mode='lines', name='Historical Context', line=dict(color='gray')\n",
    "))\n",
    "\n",
    "# Actual Values\n",
    "fig.add_trace(go.Scatter(\n",
    "    x=dates, y=actuals,\n",
    "    mode='lines', name='Actual Values', line=dict(color='black', width=3)\n",
    "))\n",
    "\n",
    "# Fine-Tuned Forecast\n",
    "fig.add_trace(go.Scatter(\n",
    "    x=dates, y=predictions_finetuned,\n",
    "    mode='lines', name=f'Fine-Tuned (MAE: {mae_finetuned:.4f})', line=dict(color='blue', dash='dash')\n",
    "))\n",
    "\n",
    "# Zero-Shot Forecast\n",
    "fig.add_trace(go.Scatter(\n",
    "    x=dates, y=predictions_zeroshot,\n",
    "    mode='lines', name=f'Zero-Shot (MAE: {mae_zeroshot:.4f})', line=dict(color='red', dash='dash')\n",
    "))\n",
    "\n",
    "fig.update_layout(\n",
    "    title=f\"Fine-Tuned vs. Zero-Shot Forecast for {TICKER}\",\n",
    "    xaxis_title=\"Datetime\",\n",
    "    yaxis_title=\"Close Price\",\n",
    "    legend_title=\"Model\"\n",
    ")\n",
    "fig.show()"
   ]
  }
 ],
 "metadata": {
  "kernelspec": {
   "display_name": "ts_analysis_env",
   "language": "python",
   "name": "ts_analysis_env"
  },
  "language_info": {
   "codemirror_mode": {
    "name": "ipython",
    "version": 3
   },
   "file_extension": ".py",
   "mimetype": "text/x-python",
   "name": "python",
   "nbconvert_exporter": "python",
   "pygments_lexer": "ipython3",
   "version": "3.10.18"
  }
 },
 "nbformat": 4,
 "nbformat_minor": 5
}
