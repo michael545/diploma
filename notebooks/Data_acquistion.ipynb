{
 "cells": [
  {
   "cell_type": "code",
   "execution_count": 5,
   "metadata": {},
   "outputs": [],
   "source": [
    "import pandas as pd\n",
    "import time\n",
    "import numpy as np\n",
    "import yfinance as yf\n",
    "import os\n",
    "import pandas as pd"
   ]
  },
  {
   "cell_type": "code",
   "execution_count": 6,
   "metadata": {},
   "outputs": [],
   "source": [
    "tickers = [\"IONQ\", \"RGTI\", \"NVDA\", \"TSLA\", \"QBTS\", \"SMCI\", \"MU\", \"MSTR\", \"SRPT\", \"INTC\", \"VKTX\"]\n",
    "save_dir = os.path.join(os.getcwd(), f\"data\", \"1H\")\n",
    "interval = \"1h\"\n",
    "period = \"max\" "
   ]
  },
  {
   "cell_type": "code",
   "execution_count": 7,
   "metadata": {},
   "outputs": [],
   "source": [
    "def fetch_and_save_prices(ticker):\n",
    "    filename = os.path.join(save_dir, f\"{ticker}_1H.csv\")\n",
    "    \n",
    "\n",
    "    if os.path.exists(filename):\n",
    "        print(f\"File {filename} already exists. Skipping...\")\n",
    "        return\n",
    "    \n",
    "    try:\n",
    "\n",
    "        stock = yf.Ticker(ticker)\n",
    "        df = stock.history(period=period, interval=interval, prepost=True)\n",
    "        \n",
    "        if df.empty:\n",
    "            print(f\"No data found for {ticker}.\")\n",
    "            return\n",
    "        \n",
    "        df.to_csv(filename)\n",
    "        print(f\"Saved {ticker} data to {filename}\")\n",
    "    except Exception as e:\n",
    "        print(f\"Error fetching data for {ticker}: {e}\")"
   ]
  },
  {
   "cell_type": "code",
   "execution_count": 8,
   "metadata": {},
   "outputs": [
    {
     "name": "stdout",
     "output_type": "stream",
     "text": [
      "Saved IONQ data to c:\\Users\\micha\\code\\finance\\diploma\\data\\1H\\IONQ_1H.csv\n",
      "Saved RGTI data to c:\\Users\\micha\\code\\finance\\diploma\\data\\1H\\RGTI_1H.csv\n",
      "Saved NVDA data to c:\\Users\\micha\\code\\finance\\diploma\\data\\1H\\NVDA_1H.csv\n",
      "Saved TSLA data to c:\\Users\\micha\\code\\finance\\diploma\\data\\1H\\TSLA_1H.csv\n",
      "Saved QBTS data to c:\\Users\\micha\\code\\finance\\diploma\\data\\1H\\QBTS_1H.csv\n",
      "Saved SMCI data to c:\\Users\\micha\\code\\finance\\diploma\\data\\1H\\SMCI_1H.csv\n",
      "Saved MU data to c:\\Users\\micha\\code\\finance\\diploma\\data\\1H\\MU_1H.csv\n",
      "Saved MSTR data to c:\\Users\\micha\\code\\finance\\diploma\\data\\1H\\MSTR_1H.csv\n",
      "Saved SRPT data to c:\\Users\\micha\\code\\finance\\diploma\\data\\1H\\SRPT_1H.csv\n",
      "Saved INTC data to c:\\Users\\micha\\code\\finance\\diploma\\data\\1H\\INTC_1H.csv\n",
      "Saved VKTX data to c:\\Users\\micha\\code\\finance\\diploma\\data\\1H\\VKTX_1H.csv\n"
     ]
    }
   ],
   "source": [
    "for ticker in tickers:\n",
    "    fetch_and_save_prices(ticker)"
   ]
  }
 ],
 "metadata": {
  "kernelspec": {
   "display_name": "myenv-3-10",
   "language": "python",
   "name": "python3"
  },
  "language_info": {
   "codemirror_mode": {
    "name": "ipython",
    "version": 3
   },
   "file_extension": ".py",
   "mimetype": "text/x-python",
   "name": "python",
   "nbconvert_exporter": "python",
   "pygments_lexer": "ipython3",
   "version": "3.10.1"
  }
 },
 "nbformat": 4,
 "nbformat_minor": 2
}
